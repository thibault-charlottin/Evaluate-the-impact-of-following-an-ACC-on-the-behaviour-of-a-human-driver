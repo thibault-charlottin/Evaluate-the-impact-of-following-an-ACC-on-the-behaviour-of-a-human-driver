{
 "cells": [
  {
   "cell_type": "markdown",
   "metadata": {},
   "source": [
    "# Evaluate the impact of followign an ACC on the behaviour of a human driver"
   ]
  },
  {
   "cell_type": "markdown",
   "metadata": {},
   "source": [
    "This notebook will allow you to reproduce the results that are presented in the paper <br>\n",
    "#### Does following an AV change the behaviour of a driver ? <br>\n",
    "Thibault Charlottin, Haneen Farah, Silvia Varotto, Christine Buisson"
   ]
  },
  {
   "cell_type": "code",
   "execution_count": null,
   "metadata": {},
   "outputs": [],
   "source": [
    "#import the coded scripts\n",
    "\n",
    "#data preprocessing tools\n",
    "import src.read_data as read\n",
    "import src.add_safety_indicators as safety\n",
    "import src.detect_LC as LC\n",
    "import src.add_stimulus_evaluation as stimulus\n",
    "#longitudinal comparison tools\n",
    "import src.cftest as cf\n",
    "import src.compare_cf_behaviour as car_follow\n",
    "import src.compare_cf_execution as cf_exe\n",
    "\n",
    "#safety comparison tool\n",
    "import src.compare_safety as safety_compa\n",
    "\n",
    "#LC probability\n",
    "import src.prepare_data_for_LC_logit as LC_preprocessing\n",
    "import src.model_LC_proba as Logit_LC\n",
    "\n",
    "#misc packages\n",
    "import pandas as pd\n",
    "import numpy as np\n",
    "import seaborn as sns\n",
    "import matplotlib.pyplot as plt\n",
    "import os \n",
    "\n",
    "#plotting environnement\n",
    "sns.set_theme()\n",
    "sns.set(font_scale=1.2)"
   ]
  },
  {
   "cell_type": "markdown",
   "metadata": {},
   "source": [
    "## Preprocess data"
   ]
  },
  {
   "cell_type": "markdown",
   "metadata": {},
   "source": [
    "First we create one individual dataframe for each run and we add the leader, distance headway, time headway and traffic safety indicators and lane change flags <br>\n",
    "To launch this cell, you need to download the TGSIM dataset as presented in the Readme file and then, as presented in the Readme, to place them into the \"data/raw data/\" folder"
   ]
  },
  {
   "cell_type": "code",
   "execution_count": null,
   "metadata": {},
   "outputs": [],
   "source": [
    "#in a first time we perform leader detection and DHW and THW computations \n",
    "path = 'data/raw_data/'\n",
    "path_out = 'data/by_run/'\n",
    "filenames = ['Third_Generation_Simulation_Data__TGSIM__I-294_L2_Trajectories.csv',\n",
    "'Third_Generation_Simulation_Data__TGSIM__I-90_I-94_Moving_Trajectories.csv',\n",
    "'Third_Generation_Simulation_Data__TGSIM__I-90_I-94_Stationary_Trajectories.csv',\n",
    "'Third_Generation_Simulation_Data__TGSIM__I-294_L1_Trajectories.csv']\n",
    "\n",
    "location_names = ['294_L2_by_run/','90_94_moving_by_run/','90_94_static_by_run/','294_L1_by_run/']\n",
    "\n",
    "for k in range(len(location_names)):\n",
    "    read.clean_data(path+filenames[k], path_out+location_names[k])\n"
   ]
  },
  {
   "cell_type": "code",
   "execution_count": null,
   "metadata": {},
   "outputs": [],
   "source": [
    "# then we perform LC detection\n",
    "\n",
    "path_list = ['Data/by_run/294_L2_by_run/','Data/by_run/294_L1_by_run/',\n",
    "             'Data/by_run/90_94_moving_by_run/','Data/by_run/90_94_static_by_run/']\n",
    "\n",
    "for path in path_list:\n",
    "    files = os.listdir(path)\n",
    "    for f in files:\n",
    "        df = pd.read_csv(path+f)\n",
    "        df = LC.detect_lane_change(df)\n",
    "        df.to_csv(path+f)\n"
   ]
  },
  {
   "cell_type": "code",
   "execution_count": null,
   "metadata": {},
   "outputs": [],
   "source": [
    "# and compute traffic safety indicators \n",
    "\n",
    "for path in path_list:\n",
    "    files = os.listdir(path)\n",
    "    for f in files:\n",
    "        df = pd.read_csv(path+f)\n",
    "        safety.process_file(df,path_list)\n"
   ]
  },
  {
   "cell_type": "code",
   "execution_count": null,
   "metadata": {},
   "outputs": [],
   "source": [
    "for path in path_list:\n",
    "    files = os.listdir(path)\n",
    "    for f in files:\n",
    "        df = pd.read_csv(path+f)\n",
    "        stimulus.add_stimulus_info(path+f)"
   ]
  },
  {
   "cell_type": "markdown",
   "metadata": {},
   "source": [
    "## Impact of following an ADAS on the car-following execution"
   ]
  },
  {
   "cell_type": "code",
   "execution_count": null,
   "metadata": {},
   "outputs": [],
   "source": [
    "# first we use the DTW algorithm to detect all the vehicles that are car-following\n",
    "\n",
    "path_out = 'out/data/DTW/'\n",
    "location_names = ['294_L2_by_run/','90_94_moving_by_run/','90_94_static_by_run/','294_L1_by_run/']\n",
    "path_list = ['Data/by_run/294_L2_by_run/','Data/by_run/294_L1_by_run/',\n",
    "             'Data/by_run/90_94_moving_by_run/','Data/by_run/90_94_static_by_run/']\n",
    "window = 30\n",
    "step = 5\n",
    "tau = 1.2\n",
    "for path in range(len(path_list)):\n",
    "    for f in os.listdir(path_list[path]):\n",
    "        df = pd.read_csv(path_list[path]+f)\n",
    "        df_DTW = cf.create_dtw_by_time_df(df,tau,window,step)\n",
    "        df_DTW.to_csv(path_out+location_names[path]+f)"
   ]
  },
  {
   "cell_type": "code",
   "execution_count": null,
   "metadata": {},
   "outputs": [],
   "source": [
    "# we compare the impact of following an ADAS on the car-following behaviour\n",
    "\n",
    "path_list = ['294_L1_by_run/','294_L2_by_run/','90_94_static_by_run/','90_94_moving_by_run/']\n",
    "glob_dtw = 'out/data/DTW/'\n",
    "glob_trajs = 'data/by_run/'\n",
    "\n",
    "df_DTW = car_follow.merge_df_dtw(path_list,glob_dtw,glob_trajs)\n",
    "df_DTW.to_csv('out/data/DTW/summary.csv',index=False)\n",
    "results = car_follow.plot_CF_DTW(df_DTW)\n",
    "results.to_csv('out/data/DTW/percentage_cf.csv')\n",
    "car_follow.plot_speed_DTW(df_DTW)\n",
    "teststats = car_follow.compare_groups_statistics(df_DTW)\n",
    "ACC = df_DTW[(df_DTW['leader is ACC']==True)&(df_DTW['location']=='294_L1_by_run/')]\n",
    "AV = df_DTW[(df_DTW['leader is ACC']==True)&(df_DTW['location']!='294_L1_by_run/')]\n",
    "HDV = df_DTW[(df_DTW['leader is ACC']==False)]\n",
    "result = ACC.groupby('id')['time'].agg(lambda x: x.max() - x.min()).reset_index()\n",
    "result.rename(columns={'time': 'time_range'}, inplace=True)\n",
    "print(result['time_range'].sum())\n",
    "result = AV.groupby('id')['time'].agg(lambda x: x.max() - x.min()).reset_index()\n",
    "result.rename(columns={'time': 'time_range'}, inplace=True)\n",
    "print(result['time_range'].sum())\n",
    "result = HDV.groupby('id')['time'].agg(lambda x: x.max() - x.min()).reset_index()\n",
    "result.rename(columns={'time': 'time_range'}, inplace=True)\n",
    "print(result['time_range'].sum())\n"
   ]
  },
  {
   "cell_type": "code",
   "execution_count": null,
   "metadata": {},
   "outputs": [],
   "source": [
    "# we compare the impact of following an ADAS on the car-following execution\n",
    "\n",
    "path_list = ['294_L1_by_run/','294_L2_by_run/','90_94_static_by_run/','90_94_moving_by_run/']\n",
    "glob_trajs = 'data/by_run/'\n",
    "\n",
    "trajs =  cf_exe.merge_df_trajs(path_list,glob_trajs)\n",
    "results_df = cf_exe.compare_groups_statistics(trajs)\n",
    "results_df.to_csv('out/DHW_ranges_tests.csv')\n",
    "\n",
    "\n",
    "trajs.replace([np.inf, -np.inf], np.nan, inplace=True)\n",
    "cf_exe.plot_speed_DHW(trajs)\n"
   ]
  },
  {
   "cell_type": "code",
   "execution_count": null,
   "metadata": {},
   "outputs": [],
   "source": [
    "# we compare the impact of following an ADAS on the response to a stimulus\n",
    "\n"
   ]
  },
  {
   "cell_type": "code",
   "execution_count": null,
   "metadata": {},
   "outputs": [],
   "source": []
  }
 ],
 "metadata": {
  "language_info": {
   "name": "python"
  }
 },
 "nbformat": 4,
 "nbformat_minor": 2
}
